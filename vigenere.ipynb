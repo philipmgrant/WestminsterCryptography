{
 "cells": [
  {
   "cell_type": "markdown",
   "metadata": {},
   "source": [
    "**Instructions**:\n",
    "\n",
    "1. Go to the *Cell* menu and click *Run All*"
   ]
  },
  {
   "cell_type": "markdown",
   "metadata": {},
   "source": [
    "#### Ciphertext"
   ]
  },
  {
   "cell_type": "code",
   "execution_count": null,
   "metadata": {},
   "outputs": [],
   "source": [
    "ct = 'UPKBXHTZAZXMEIWEMCUPQIXAULQTMVGJYBXYGPDDKSPTPNIHKFLPGRFVAGRDVZMCHTCDCHLOIVYAMVQLEWTAGJQPZSQIEGHIRFDBXGURETLQCEFPOSCUGUYSTVLIDSAKFPGCVYCGLOUZECBTKTYCMRKJYSOOPKYVXCHJWBFSVIGRVWRYCGLWUKFTDSADYCTUGDCCMBGTCHLOTPRDNGGKFTFGGTSGXZAVYRARKJRXGQVGYXKCHTMBFIPZAPMWPXNPKHKVQBNGVZBTTZNPQWTFGRBXYTGICCMYGPYCWDGIFPIGHFPTTQJTGEASTKCMMSZTFPGUGUYHPSNCRWXBWDZTKCHBCNLFGHSXKSFZLRKSCJCHTGVYCHJICICDYHJVLJFPGIMUGSVNMGDAGDZTKGYYGRAJGIWFNWEBJNKSSLGGXGEFKEESZBCNFOPRETFSPKQRASOVQIHYGVNIASORJAVCPJGHMSPKYCWGGTPTMKJZRUBSNUBXYTKVYCWACIRXGVGCJBTBCLRWHFUFDIASHZPHMDWSJXLVGUNPISTFLENPNZAZXMEIWEMCIIYEAMKEYVKCWEBQKSCBGCZDCGCGPVKKDXXZFUGUYWGRLSFOTKGCASNCKPGDTFNDLSFKFTGCVZMCHTRLZABQMVWPEGQDMGXUGECGTZNPAPEZGUYHRAOVRGBQMVWRKMRKMVKORYWXGKJZAWMKQUGUYSTVLIUIVDYIASORRXVONCWGXZCKCSDSAJYGXIUVBPIIDCGRDSARLSTDTZTPMSMVWPIIDCGRDSAJWHMSOZQHHQQEQIKIEKCSMVCKAPEQWCYIBCPFDDGSMVWIASRIGKTHGBCNBGEFKENHCKGDGONCWXGTGRQXUZGWPDFHJVMIASTKFTIIDCGRDSAVTTGHJFSVAHJVWPKSPVATLGCIGARFGCYIXRKEQIXOFSMIAYGPQPKSIVLTKOVVBHXQTVRAROURLXGHGIPTEOVVBETWTKFTAWUKMGBOPUYKBRMRFCWSUTPXUSFGSQEWEBCNVFAGRDZFCGFNTGVYCBHGVICKHZWKGDGOTPLTPQQEATIHKERWXTKVJSLWPTCEHZARJEAODVRXVGWSQIBHWKGDGSOVPVXRKERWXFGEYXLGCEATBBRLZABQMVWRKMRKMHRGVVKHMVGGSQEWEBCNFOASCUKSGCWSBGVIGQNHGUUWBZGZRHIOKICSIFKMYIXYGPKJLHTVKPBBUVAGXHKEYENPNZAZXMGEAGRDVZMCLMUKCBMVGGSQEWEBCNBGWJCSYCTVLRKMRKGDGKJZJTMVGGPXOOVVMGLSEICIDSAZQJLSFWMGWSEIWEMWQEUWBZGUGUYWGRLSASNCKPGQQLJSGCVWGCWGWTFPLMUKCBMVGPQWHKGURWTHRLZABQMVWRKMRKMVKORYWLTGKEBTXRRFQHBPNVZNIFGJCCMWPXRWXRKWDXXVGCJBTBMVWTQQJRLVXDTFRDVCNRQDEIVZMCMVCKGHGCYNGSXZALQTWWPJCRNFGTMBFIPZAPMWQEQIHONCMLMKQGYGMWGJRDLSEICIEMCXPTXCPRQWTFGUCCVFAGRXHBMVWIASZJRPGRCIBSXTKECHMVGDMHMQQDKDGZALQTWTQIKPMTQINJUZKTITRQGIRXYWERRTLRKWDXXOPUFTEZORLHIIDCGRTHKFLHIOTBCSPWFVQEKSCUYRTRGDGRXTHFPILWPWGCWWPXYEKOEKGRTZRLZABQMVWTGQTPNIBCPJWHMSOKFXLFCTCLTGHZLPEZANMCBBDPPDGONUPXOSUKYSBGJRKXKOPUJTGOFCCBTBYYMHXGQCSIBCPYYHLWPTCQXQQDCZGCYEYHMVGIQPTZIFPXMVOKFTWWHWGTASNCKPGOPUPHTONXMGBHJDQXGOFUGIBCPKMQXWPXRWXTKIQIIIDCGREMMEMLGSZRKEESUFDWBUJHSPEWVPNJUZKTITRONXMGBHJDQWTJGSCTGOOFLVMVGDMHMKKUCARIUVBDMVGIYHRAOVRGBQMVWPEUQIGIAAUZLREIFVRWXQTRKTKGJFSEVFAGRDLMUKCBXZIRKPESPTPNIHKFLPGRXRPXHIUVJABDVZARNFXVRTVVPZOJXGCUMRNAGERENPNZQWXRKEZNMVGXMKXFPDCCMQQDKJGWERRXHBUYCPWEWRPIXFUXAWJODIGIBGJZLIXZNZETGQGFPVTBKQYIBCPICKXONVBIAOVTPNIHQXPPIVGIQPMUEYOWTRCERXVWRRRTWGGMCGTZCTYSXAKTBTOSNFNBXBVJPTICTKCSEMCIMJGRLRKTLVGCJXLVCUADGQGZTTWHJVNGBBEZNAXGQWYHRAOVRGBQMVWRKMRKMVKORYWXGQNZDUHFFTMRDGKETTGHGUYHHZWKGDGHJRRKXFAJGBBZCIGCWSUZECKOVZMCTZGKMGLOCEBXGACCADEALNGAEWCDQDGWUTJPBAGURDAOXVBTOSNFNTWHJVBXYTKVFTEZORLZXMGOAWTBIVGCMVKJCMTARCCIASOVQHTUGZQDGZAJGVGSFRLSGCVVLRKMRKCSTZKTCHBUPJYBXGURETPWVYFTKDTZTPMSMVWQHPERLKXFKWWIAOVRJXVSUVLIMVGDCHLOIVYCWHJRRIASOVQHTUGYYHGCVSCTGAQUGUBSFGSQEWEBCNVFAGRDZFCGFNBGCCQDNGGUDDKWOGJTFSPKGCZRKXGITZUZECTHWICHVVGDCHTRKXGITZUZECTHWICXLFGDGCBGEVLIHTCEMGWWPRPNLWIEYINFGKFTRPQKFWTJGKFTVVCIYRMSTZQIBQQWZTBBIVYHRTQIYJLSTKMEKCFLATUIVUGUYWELJIYCTRLNHBGVJHXHQWMGZSFZEXMONJGVGOVLPTLQCEYALCDVNTKACECCMZAKGTWHQKFTVCPKCCMCHKFTFSUJYVXPGZLVLWIECSMVGPAPGBQKRWXBDVKDOSFWPDFCPVBDVIOVLIMCCEMIASTWMGTBARRIXARKUXEZDVBTMSEKYQESKEBXZWVRJHBUPRRJKSUTFTFSUKFTKSCICIPCCCEDKWVYKHHBGWMGLWIEGCZWPNFXVVCJCRKSVBCNBGWJCSMCRIMRXGUKFTFSUJYVXCTRFPLVQWRWXAGJQPZSQIZDMVCEBDGSHFPKXFKWGRTHKFLXGKJZAWMVGDYIVVKEEENPNZAZXMKJSHXRYZRWMVGDCHLOIVRDVVGTIIASXRJXWWVPMUMVGJGVGOVLPTKGCRLSWGCRPTMKQFDIASOFQIICRLJPKRKXGITZUZECTHWICHVVGDCHWWIZRPEGKXLPMITVQPKSEVLIKONKMIASQGCGTHKFLDYDWSJXVYGPGCYFCJRGNQVLPTLOPUKPGMPVRLHFMJCRNFKKWHVVGDCHXUUJJIEGORLNODPJCIVDWSJXVYGPYAZCTZRWFGCICBHGVFDIXBDRQTWCPKFTVCOGSITHKFLPEQQDNAXLKKWDYVCIBEKCDCCBLCHKCCYFQDLJFPGIRWXCTPDDKSZRKEESVYCWTFFECHLCHIQPBGTVJPMSFKMIASKERTZSTWYRMCTZXPMWQENGHPNVKLAWNVBXYTKVFTEZORLPGRFJYPKSTVJPMSFKMIASFZQRKSVVJDZOTZRWFDTFZAXAVYCHXQWIGIRCHVJABDVZARNFXVAGRDVFEGTDJPGHUOUVBDGBWDZTKHJVMGXHKTNGHPNVKHBBXFJKBBIVJABDVZARNFXVQQXQCLQTHTVYCSBTHZAJEHAFDIASWEBTKZAZLVIFQSJTFGOFQIIIDCGRDSARJVHFKKFBLWPMMAOSQGCGTHKFLHLIEYYHFCFLJPKAWCRXIZKTYIBCPRLSXLRFLTGHKRRXHBYYGRAOTVKJVVOFPTVCOGSITHKFLPEZAVVEXBUZTTMVCERWXHGTFCBEWVQJLSFZLBHGVSJDVYEZNWXFUVQEXQKRJARKKKFIRDKTYADSAJGOXGCJYGXGWCRENPNZAZXMEIWEMCUPQIXAURPTVCODMCEMJPZGBREIWEMCUPQIXAUZLLAWEYYUTGVYGVAEWRJXMMUPKBXHTZAZXMGEAGRDVZMCTZIFPXMVOZQJLSFWMGMVGDCHLOIVGILSNWUWBZGKFTKSNVTPGHUPKBXHTZAZXMKJQTGHYZRWMVGDCHLOIVZJMSPTPNIHGUSHBBIRNJUZKTITRONXMGBHJDQXFWNRPARVASPXWGKXLPMITVQRASOVQPKSQWRTGIUVBXGKJZAWTQTPNIHUTRNWBQJRQWYIPTRXHBKJADFDWKCSTBFFLARHJVPTLINKGCZVCJFXLRKXGITZNPQXZBGU'"
   ]
  },
  {
   "cell_type": "markdown",
   "metadata": {
    "colab_type": "text",
    "heading_collapsed": true,
    "id": "n4gY5sx1SSuF"
   },
   "source": [
    "#### Code setup"
   ]
  },
  {
   "cell_type": "code",
   "execution_count": null,
   "metadata": {
    "colab": {},
    "colab_type": "code",
    "hidden": true,
    "id": "MsUkglkgSLDx"
   },
   "outputs": [],
   "source": [
    "from collections import Counter, defaultdict, deque\n",
    "import itertools\n",
    "import numpy as np\n",
    "import matplotlib.pyplot as plt\n",
    "import string\n",
    "import textwrap\n",
    "\n",
    "from IPython.display import clear_output, display\n",
    "import ipywidgets as widgets"
   ]
  },
  {
   "cell_type": "code",
   "execution_count": null,
   "metadata": {
    "colab": {},
    "colab_type": "code",
    "hidden": true,
    "id": "AkDkWSGCSK5_"
   },
   "outputs": [],
   "source": [
    "plt.rcParams['figure.figsize'] = (18, 12)"
   ]
  },
  {
   "cell_type": "code",
   "execution_count": null,
   "metadata": {
    "colab": {},
    "colab_type": "code",
    "hidden": true,
    "id": "0lM1q1_Kq_-T"
   },
   "outputs": [],
   "source": [
    "alphabet = string.ascii_uppercase"
   ]
  },
  {
   "cell_type": "code",
   "execution_count": null,
   "metadata": {
    "colab": {},
    "colab_type": "code",
    "hidden": true,
    "id": "bz818t776qdO"
   },
   "outputs": [],
   "source": [
    "def build_maps():\n",
    "    encrypt_map = {}\n",
    "    decrypt_map = {}\n",
    "    rotated = deque(alphabet)\n",
    "    for key_char in alphabet:\n",
    "        encrypt_map[key_char] = dict(zip(alphabet, rotated))\n",
    "        decrypt_map[key_char] = dict(zip(rotated, alphabet))\n",
    "        rotated.rotate(-1)\n",
    "    return encrypt_map, decrypt_map"
   ]
  },
  {
   "cell_type": "code",
   "execution_count": null,
   "metadata": {
    "colab": {},
    "colab_type": "code",
    "hidden": true,
    "id": "UvLFc7EF6r7P"
   },
   "outputs": [],
   "source": [
    "encrypt_map, decrypt_map = build_maps()"
   ]
  },
  {
   "cell_type": "code",
   "execution_count": null,
   "metadata": {
    "colab": {},
    "colab_type": "code",
    "hidden": true,
    "id": "kPl_a7IL8KUN"
   },
   "outputs": [],
   "source": [
    "def vigenere(text, key, mapping):\n",
    "    res = []\n",
    "    key_it = itertools.cycle(key)\n",
    "    for tc in text:\n",
    "        if tc in alphabet:\n",
    "            res.append(mapping[next(key_it)][tc])\n",
    "        else:\n",
    "            res.append(tc)\n",
    "\n",
    "    return ''.join(res)"
   ]
  },
  {
   "cell_type": "code",
   "execution_count": null,
   "metadata": {
    "colab": {},
    "colab_type": "code",
    "hidden": true,
    "id": "HZoCAQLlwpkF"
   },
   "outputs": [],
   "source": [
    "def letter_counts_by_key_position(ct, key_length):\n",
    "    counters = [defaultdict(int) for _ in range(key_length)]\n",
    "    counters_iter = itertools.cycle(counters)\n",
    "\n",
    "    for c in ct:\n",
    "        if c.upper() in alphabet:\n",
    "            next(counters_iter)[c.upper()] += 1\n",
    "\n",
    "    return [[ctr[c] for c in alphabet] for ctr in counters]\n"
   ]
  },
  {
   "cell_type": "code",
   "execution_count": null,
   "metadata": {
    "colab": {},
    "colab_type": "code",
    "hidden": true,
    "id": "yX8uDqI9RE4J"
   },
   "outputs": [],
   "source": [
    "def letter_frequencies_by_key_position(ct, key_length):\n",
    "    freqs = letter_counts_by_key_position(ct, key_length)\n",
    "    return [[x/sum(ctr) for x in ctr] for ctr in freqs]"
   ]
  },
  {
   "cell_type": "code",
   "execution_count": null,
   "metadata": {
    "colab": {},
    "colab_type": "code",
    "hidden": true,
    "id": "8nN_gvYI0Ev-"
   },
   "outputs": [],
   "source": [
    "def circular_bar_plot(labels, heights,\n",
    "                      bottom=1, max_height=4,\n",
    "                      clockwise=True, title=None, color='blue',\n",
    "                      ax=None, letter_fontsize=14, number_fontsize=12,\n",
    "                      title_fontsize=18):\n",
    "    assert len(heights) == len(labels)\n",
    "    N = len(labels)\n",
    "\n",
    "    if ax is None:\n",
    "        ax = plt.subplot(111, polar=True)\n",
    "    \n",
    "    if clockwise:\n",
    "        raw_thetas = np.linspace(1/2 * np.pi, -3/2 * np.pi, N, endpoint=False)\n",
    "    else:\n",
    "        raw_thetas = np.linspace(1/2 * np.pi, 5/2 * np.pi, N, endpoint=False)\n",
    "\n",
    "    # Matplotlib requires the θ-coords to be in the range [0, 2π)\n",
    "    thetas = np.mod(raw_thetas, 2*np.pi)\n",
    "\n",
    "    height_scaler = np.vectorize(lambda h: max_height * h / max(heights))\n",
    "    scaled_heights = height_scaler(heights)\n",
    "    yticks_raw = np.arange(0, max(heights), 0.05)\n",
    "    yticks = height_scaler(yticks_raw) + bottom\n",
    "    yticklabels = [f'{h*100:.0f}%' for h in yticks_raw]\n",
    "\n",
    "    bars = ax.bar(thetas, scaled_heights, width=2*np.pi / N, bottom=bottom,\n",
    "                  color=color)\n",
    "\n",
    "    ax.set_xticks(thetas)\n",
    "    ax.set_xticklabels(labels, fontsize=letter_fontsize)\n",
    "    ax.set_yticks(yticks)\n",
    "    ax.set_yticklabels(yticklabels, fontsize=number_fontsize)\n",
    "\n",
    "    if title:\n",
    "        ax.set_title(title, fontsize=title_fontsize, pad=1.5*title_fontsize)"
   ]
  },
  {
   "cell_type": "code",
   "execution_count": null,
   "metadata": {
    "colab": {},
    "colab_type": "code",
    "hidden": true,
    "id": "CNapOSgpOiEJ"
   },
   "outputs": [],
   "source": [
    "# from: https://en.wikipedia.org/wiki/Letter_frequency#Relative_frequencies_of_the_first_letters_of_a_word_in_the_English_language\n",
    "letter_frequency_raw = '''0.08167\n",
    "0.01492\n",
    "0.02782\n",
    "0.04253\n",
    "0.12702\n",
    "0.02228\n",
    "0.02015\n",
    "0.06094\n",
    "0.06966\n",
    "0.00153\n",
    "0.00772\n",
    "0.04025\n",
    "0.02406\n",
    "0.06749\n",
    "0.07507\n",
    "0.01929\n",
    "0.00095\n",
    "0.05987\n",
    "0.06327\n",
    "0.09056\n",
    "0.02758\n",
    "0.00978\n",
    "0.02360\n",
    "0.00150\n",
    "0.01974\n",
    "0.00074'''"
   ]
  },
  {
   "cell_type": "code",
   "execution_count": null,
   "metadata": {
    "colab": {},
    "colab_type": "code",
    "hidden": true,
    "id": "sq3pPPyDOilp"
   },
   "outputs": [],
   "source": [
    "average_frequencies = [float(x) for x in letter_frequency_raw.splitlines()]"
   ]
  },
  {
   "cell_type": "code",
   "execution_count": null,
   "metadata": {
    "colab": {},
    "colab_type": "code",
    "hidden": true,
    "id": "9smbP_tNOdyl"
   },
   "outputs": [],
   "source": [
    "def plot_frequencies_per_key_position(key_length, text, max_grid_columns=4,\n",
    "                                      text_desc='Ciphertext',\n",
    "                                      colors=('#070', '#707',)):\n",
    "    grid_rows_lower = -(-key_length // max_grid_columns) # Trick to make // \"round up\"\n",
    "    grid_rows = grid_rows_lower + 1\n",
    "    grid_columns = -(-key_length // grid_rows_lower)\n",
    "\n",
    "    average_axes = plt.subplot(grid_rows, grid_columns, 1, polar=True)\n",
    "    kp_axes = [plt.subplot(grid_rows, grid_columns, grid_columns+i+1, polar=True)\n",
    "               for i in range(key_length)]\n",
    "    kp_letter_frequencies = letter_frequencies_by_key_position(text, key_length)\n",
    "\n",
    "    font_kwargs = dict(letter_fontsize=9, number_fontsize=8, title_fontsize=10)\n",
    "\n",
    "    circular_bar_plot(alphabet, average_frequencies, ax=average_axes,\n",
    "                    title='Average English', color=colors[0], **font_kwargs)\n",
    "    \n",
    "    for k, kp_freq in enumerate(kp_letter_frequencies):\n",
    "        circular_bar_plot(alphabet, kp_freq, ax=kp_axes[k],\n",
    "                        title=f'{text_desc} (letters {k+1}, {k+1+key_length}...)',\n",
    "                        color=colors[1], **font_kwargs)\n",
    "    clear_output(wait=True)\n",
    "    plt.tight_layout(w_pad=1, h_pad=2)\n",
    "    plt.show()"
   ]
  },
  {
   "cell_type": "code",
   "execution_count": null,
   "metadata": {
    "colab": {},
    "colab_type": "code",
    "hidden": true,
    "id": "ogFe9fJA4jvK"
   },
   "outputs": [],
   "source": [
    "def try_key_size():\n",
    "    slider = widgets.IntSlider(value=2, min=1, max=15, step=1,\n",
    "                            description='Key length', continuous_update=False)\n",
    "    out = widgets.Output()\n",
    "    box = widgets.VBox([slider, out])\n",
    "\n",
    "    def update_fn(_):\n",
    "        with out:\n",
    "            plot_frequencies_per_key_position(slider.value, ct)\n",
    "    slider.observe(update_fn, names='value')\n",
    "\n",
    "    update_fn(None)\n",
    "    display(box)\n",
    "    return slider"
   ]
  },
  {
   "cell_type": "code",
   "execution_count": null,
   "metadata": {
    "colab": {},
    "colab_type": "code",
    "hidden": true,
    "id": "9F5NuUH4PyFI"
   },
   "outputs": [],
   "source": [
    "def try_decryption(slider):\n",
    "    state = {'key_pickers': []}\n",
    "    vbox = widgets.VBox()\n",
    "\n",
    "    def reset():\n",
    "        if len(state['key_pickers']) != slider.value:\n",
    "            state['key_pickers'] = [widgets.Dropdown(options=[*alphabet],\n",
    "                                            layout={'width': '60px'})\n",
    "                                for _ in range(slider.value)]\n",
    "            hbox = widgets.HBox(state['key_pickers'])\n",
    "            vbox.children = [hbox, button, text_out, graphs_out]\n",
    "\n",
    "    button = widgets.Button(description='Check decryption result',\n",
    "                            layout=widgets.Layout(min_width='200px'))\n",
    "\n",
    "    text_out = widgets.Output()\n",
    "    graphs_out = widgets.Output()\n",
    "\n",
    "    def decrypt():\n",
    "        key = ''.join(kp.value for kp in state['key_pickers'])\n",
    "        pt = vigenere(ct, key, decrypt_map)\n",
    "\n",
    "        text_out.clear_output()\n",
    "        with text_out:\n",
    "            for ln in textwrap.wrap(pt[:360], 100):\n",
    "                print(ln)\n",
    "            print('......')\n",
    "\n",
    "        with graphs_out:\n",
    "            plot_frequencies_per_key_position(slider.value, pt, text_desc='Decrypted')\n",
    "\n",
    "    reset()\n",
    "    decrypt()\n",
    "    button.on_click(lambda _: decrypt())\n",
    "    slider.observe(lambda _: reset())\n",
    "    display(vbox)"
   ]
  },
  {
   "cell_type": "markdown",
   "metadata": {
    "colab_type": "text",
    "id": "9G0XqzCV1tCg"
   },
   "source": [
    "#### What are the letter frequencies in the ciphertext?"
   ]
  },
  {
   "cell_type": "code",
   "execution_count": null,
   "metadata": {
    "colab": {
     "base_uri": "https://localhost:8080/",
     "height": 876
    },
    "colab_type": "code",
    "id": "G0sCb_-e1tQe",
    "outputId": "4e10493e-e4c0-4149-ab4a-92ce40f992d9"
   },
   "outputs": [],
   "source": [
    "plot_frequencies_per_key_position(1, ct, colors=('#070', '#007',))"
   ]
  },
  {
   "cell_type": "markdown",
   "metadata": {
    "colab_type": "text",
    "id": "ILftsfKPBrAR"
   },
   "source": [
    "#### Can we get a clue as to the key size?"
   ]
  },
  {
   "cell_type": "code",
   "execution_count": null,
   "metadata": {
    "colab": {
     "base_uri": "https://localhost:8080/",
     "height": 906,
     "referenced_widgets": [
      "d5040f4a3feb46548c116b45037a94e7",
      "bfbada902db84f82b28a0440c78dc711",
      "32f4b7adce66411692bd5677465c3f17",
      "e8eaa390b150427282b0a4c7b0e7c773",
      "72a45b2f64dc45529aa4f6654faabb80",
      "13d32f84bd3b4b16ad35aa41841d567f",
      "d6de2f098efa49c3bf793c9b90d8fd45"
     ]
    },
    "colab_type": "code",
    "id": "cPnt4TdLdMkP",
    "outputId": "2acb9e6b-8227-4126-dcd6-f71d3406e239"
   },
   "outputs": [],
   "source": [
    "slider = try_key_size()"
   ]
  },
  {
   "cell_type": "markdown",
   "metadata": {
    "colab_type": "text",
    "id": "DTQ5Dklt4egJ"
   },
   "source": [
    "#### Can we work out the key?"
   ]
  },
  {
   "cell_type": "code",
   "execution_count": null,
   "metadata": {
    "colab": {
     "base_uri": "https://localhost:8080/",
     "height": 1000,
     "referenced_widgets": [
      "d609b6afdaa54bee818e158a6d2b6d7f",
      "1edec46a0a384f86be6caddd492bc1c7",
      "721c383e231f468cb9359de2115d2fa4",
      "cadabd6a600b43be9155688c0ed7a23a",
      "2fb40caf34524f429e65e84974f66db3",
      "d187c6c7c4924fbb9c62a37efcace53f",
      "228965de85b545b08164ced4a252af09",
      "ef13df7bd7764a31a44b6cb4725b3254",
      "56c1e3868ff746ac8a23fe5b8db56325",
      "d15364e5f70b481e879318d1204f6f32",
      "6d280e8a5159491d90c1e83ac4bac349",
      "74ea882a63554fa7aa682f5b1bc0263c",
      "0203b81df7d347a8bf6172fdc03d382c",
      "f9408ac2660a40c08953bf5e043e8866",
      "ccb28bf8b9a9417eb152800b730d7b14",
      "0fd56c6fe11b48bcae5c2e0620fa102a",
      "0f1481b5d8384c10aa49db26fe493e5e",
      "e1eb431361cc45b98b65fe7f4f0cc995",
      "68ee031c561d43679e06406741fb0747",
      "35ac33d57c2540a9bf5b9e6cce2476f7",
      "02dbb0a253e146ceb400065292bac8b5",
      "ced3686b54764cc7847dc920b7e3ee59",
      "ba4f20c8db4f4d518852a516569d53e6",
      "3e6b80f8807a4418a0a75255ef524a6a",
      "f8247e53667a4a55b34b61491572a830",
      "f03068ee4f8143088b49c519babae06e",
      "b109f16554f24a5b8990fc696300972e",
      "8c1e36e639484ab78b67aa7f01221a17",
      "76b34ff09f274f54b619f913af58f799",
      "f988b1e067b24758be25be687d1edcb5",
      "ed2f3db0556f4ef9a56d02469ac852c0",
      "7e5b6d72208f4d1e86c5553995a4b984",
      "189b1d40c46d40c0a0a5710a00d9c774",
      "80648c498e9a4ceca3b518dfa019d203",
      "432c3c47d9594b4fb9a59d420c32a19e",
      "c0655d25321040c08715939b1e01c2d2",
      "dfc27dd18c04450ca96014c7b91945ad",
      "1ba6f223d68948398e7fe1d960c91587",
      "228e411b24124cf982556139d5d12353",
      "71f221c7f96e4c6996ab7d0755eeffe8",
      "7bb0fa39a3cd492da90473e45a9a6b1a",
      "e9e42f7533524a92a81f889e0ee2341d",
      "52d90d8f85bb4e00a609ca04c3421e9a",
      "426c7dfb753948b1b141405b96f08aa2",
      "dcc62d95825847cc90ed055a0fed499b",
      "763d07540c8149c793f87ca672169133"
     ]
    },
    "colab_type": "code",
    "id": "G755RH9dczDO",
    "outputId": "78af1714-033f-4708-bba5-4cd4627f5274"
   },
   "outputs": [],
   "source": [
    "try_decryption(slider)"
   ]
  },
  {
   "cell_type": "code",
   "execution_count": null,
   "metadata": {
    "colab": {},
    "colab_type": "code",
    "id": "nTzvdm706JDH"
   },
   "outputs": [],
   "source": []
  }
 ],
 "metadata": {
  "colab": {
   "authorship_tag": "ABX9TyMnm72fDx4TJWx5ofoMR4Nr",
   "collapsed_sections": [
    "n4gY5sx1SSuF"
   ],
   "name": "vigenere.ipynb",
   "provenance": []
  },
  "kernelspec": {
   "display_name": "Python 3",
   "language": "python",
   "name": "python3"
  },
  "language_info": {
   "codemirror_mode": {
    "name": "ipython",
    "version": 3
   },
   "file_extension": ".py",
   "mimetype": "text/x-python",
   "name": "python",
   "nbconvert_exporter": "python",
   "pygments_lexer": "ipython3",
   "version": "3.7.8"
  }
 },
 "nbformat": 4,
 "nbformat_minor": 4
}
